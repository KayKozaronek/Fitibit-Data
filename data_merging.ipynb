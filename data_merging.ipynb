{
 "metadata": {
  "language_info": {
   "codemirror_mode": {
    "name": "ipython",
    "version": 3
   },
   "file_extension": ".py",
   "mimetype": "text/x-python",
   "name": "python",
   "nbconvert_exporter": "python",
   "pygments_lexer": "ipython3",
   "version": "3.6.12-final"
  },
  "orig_nbformat": 2,
  "kernelspec": {
   "name": "python3",
   "display_name": "Python 3",
   "language": "python"
  }
 },
 "nbformat": 4,
 "nbformat_minor": 2,
 "cells": [
  {
   "source": [
    "Let's import our libraries first "
   ],
   "cell_type": "markdown",
   "metadata": {}
  },
  {
   "cell_type": "code",
   "execution_count": 147,
   "metadata": {},
   "outputs": [],
   "source": [
    "import pandas as pd\n",
    "import numpy as np \n",
    "from os import listdir "
   ]
  },
  {
   "source": [
    "# 0. Get a feel for the data"
   ],
   "cell_type": "markdown",
   "metadata": {}
  },
  {
   "source": [
    "Look at all the files we have in our fitbit data folders"
   ],
   "cell_type": "markdown",
   "metadata": {}
  },
  {
   "source": [
    "files1 = [f for f in listdir(\"data/fitbit_1\")]\n",
    "files2 = [f for f in listdir(\"data/fitbit_2\")]"
   ],
   "cell_type": "code",
   "metadata": {},
   "execution_count": 148,
   "outputs": []
  },
  {
   "cell_type": "code",
   "execution_count": 149,
   "metadata": {},
   "outputs": [
    {
     "output_type": "stream",
     "name": "stdout",
     "text": [
      "11\n18\n"
     ]
    }
   ],
   "source": [
    "print(len(files1))\n",
    "print(len(files2))"
   ]
  },
  {
   "source": [
    "Apparently they don't have the same length \n",
    "So let's see what data is included in both folders "
   ],
   "cell_type": "markdown",
   "metadata": {}
  },
  {
   "cell_type": "code",
   "execution_count": 150,
   "metadata": {},
   "outputs": [
    {
     "output_type": "stream",
     "name": "stdout",
     "text": [
      "['minuteStepsNarrow_merged.csv', 'minuteSleep_merged.csv', 'hourlySteps_merged.csv', 'dailyActivity_merged.csv', 'hourlyIntensities_merged.csv', 'minuteMETsNarrow_merged.csv', 'heartrate_seconds_merged.csv', 'hourlyCalories_merged.csv', 'minuteCaloriesNarrow_merged.csv', 'weightLogInfo_merged.csv', 'minuteIntensitiesNarrow_merged.csv']\n11\n"
     ]
    }
   ],
   "source": [
    "intersection = list(set(files1) & set(files2))\n",
    "print(intersection)\n",
    "print(len(intersection))"
   ]
  },
  {
   "source": [
    "- Apparently all files that are in folder 1 are included in folder 2\n",
    "- So which ones are not included?"
   ],
   "cell_type": "markdown",
   "metadata": {}
  },
  {
   "cell_type": "code",
   "execution_count": 151,
   "metadata": {},
   "outputs": [
    {
     "output_type": "execute_result",
     "data": {
      "text/plain": [
       "{'dailyCalories_merged.csv',\n",
       " 'dailyIntensities_merged.csv',\n",
       " 'dailySteps_merged.csv',\n",
       " 'minuteCaloriesWide_merged.csv',\n",
       " 'minuteIntensitiesWide_merged.csv',\n",
       " 'minuteStepsWide_merged.csv',\n",
       " 'sleepDay_merged.csv'}"
      ]
     },
     "metadata": {},
     "execution_count": 151
    }
   ],
   "source": [
    "set(files2).symmetric_difference(intersection)"
   ]
  },
  {
   "source": [
    "# 1. Merge the intersection of fitbit_1 and fitbit_2 data"
   ],
   "cell_type": "markdown",
   "metadata": {}
  },
  {
   "cell_type": "code",
   "execution_count": 7,
   "metadata": {},
   "outputs": [
    {
     "output_type": "execute_result",
     "data": {
      "text/plain": [
       "True"
      ]
     },
     "metadata": {},
     "execution_count": 7
    }
   ],
   "source": [
    "# order files1 and intersection\n",
    "files1.sort()\n",
    "intersection.sort()\n",
    "files1 == intersection"
   ]
  },
  {
   "source": [
    "Double check"
   ],
   "cell_type": "markdown",
   "metadata": {}
  },
  {
   "cell_type": "code",
   "execution_count": 8,
   "metadata": {},
   "outputs": [
    {
     "output_type": "stream",
     "name": "stdout",
     "text": [
      "dailyActivity_merged.csv\nheartrate_seconds_merged.csv\nhourlyCalories_merged.csv\nhourlyIntensities_merged.csv\nhourlySteps_merged.csv\nminuteCaloriesNarrow_merged.csv\nminuteIntensitiesNarrow_merged.csv\nminuteMETsNarrow_merged.csv\nminuteSleep_merged.csv\nminuteStepsNarrow_merged.csv\nweightLogInfo_merged.csv\n"
     ]
    }
   ],
   "source": [
    "for f in files1:\n",
    "    print(f)"
   ]
  },
  {
   "cell_type": "code",
   "execution_count": 9,
   "metadata": {},
   "outputs": [
    {
     "output_type": "stream",
     "name": "stdout",
     "text": [
      "dailyActivity_merged.csv\nheartrate_seconds_merged.csv\nhourlyCalories_merged.csv\nhourlyIntensities_merged.csv\nhourlySteps_merged.csv\nminuteCaloriesNarrow_merged.csv\nminuteIntensitiesNarrow_merged.csv\nminuteMETsNarrow_merged.csv\nminuteSleep_merged.csv\nminuteStepsNarrow_merged.csv\nweightLogInfo_merged.csv\n"
     ]
    }
   ],
   "source": [
    "for f in intersection:\n",
    "    print(f)"
   ]
  },
  {
   "source": [
    "- Concatenate the files that have the same name in each folder. \n",
    "- Save them to a new path \"data/merged/raw\""
   ],
   "cell_type": "markdown",
   "metadata": {}
  },
  {
   "cell_type": "code",
   "execution_count": 152,
   "metadata": {},
   "outputs": [],
   "source": [
    "path = \"data/fitbit_\"\n",
    "save_to_path = \"data/merged/raw/\"\n",
    "for f in intersection:\n",
    "    df1 = pd.read_csv(path + \"1/\"+ f)  \n",
    "    df2 = pd.read_csv(path + \"2/\"+ f)\n",
    "    df = pd.concat([df1, df2], ignore_index =True)\n",
    "    df.to_csv(save_to_path + f)\n",
    "print(\"Done\")"
   ]
  },
  {
   "source": [
    "# 2. Convert Minute Sleep data to Daily sleep data"
   ],
   "cell_type": "markdown",
   "metadata": {}
  },
  {
   "cell_type": "code",
   "execution_count": 153,
   "metadata": {},
   "outputs": [
    {
     "output_type": "execute_result",
     "data": {
      "text/plain": [
       "           Id                  date  value        logId\n",
       "0  1503960366  3/13/2016 2:39:30 AM      1  11114919637\n",
       "1  1503960366  3/13/2016 2:40:30 AM      1  11114919637\n",
       "2  1503960366  3/13/2016 2:41:30 AM      1  11114919637\n",
       "3  1503960366  3/13/2016 2:42:30 AM      1  11114919637\n",
       "4  1503960366  3/13/2016 2:43:30 AM      1  11114919637"
      ],
      "text/html": "<div>\n<style scoped>\n    .dataframe tbody tr th:only-of-type {\n        vertical-align: middle;\n    }\n\n    .dataframe tbody tr th {\n        vertical-align: top;\n    }\n\n    .dataframe thead th {\n        text-align: right;\n    }\n</style>\n<table border=\"1\" class=\"dataframe\">\n  <thead>\n    <tr style=\"text-align: right;\">\n      <th></th>\n      <th>Id</th>\n      <th>date</th>\n      <th>value</th>\n      <th>logId</th>\n    </tr>\n  </thead>\n  <tbody>\n    <tr>\n      <th>0</th>\n      <td>1503960366</td>\n      <td>3/13/2016 2:39:30 AM</td>\n      <td>1</td>\n      <td>11114919637</td>\n    </tr>\n    <tr>\n      <th>1</th>\n      <td>1503960366</td>\n      <td>3/13/2016 2:40:30 AM</td>\n      <td>1</td>\n      <td>11114919637</td>\n    </tr>\n    <tr>\n      <th>2</th>\n      <td>1503960366</td>\n      <td>3/13/2016 2:41:30 AM</td>\n      <td>1</td>\n      <td>11114919637</td>\n    </tr>\n    <tr>\n      <th>3</th>\n      <td>1503960366</td>\n      <td>3/13/2016 2:42:30 AM</td>\n      <td>1</td>\n      <td>11114919637</td>\n    </tr>\n    <tr>\n      <th>4</th>\n      <td>1503960366</td>\n      <td>3/13/2016 2:43:30 AM</td>\n      <td>1</td>\n      <td>11114919637</td>\n    </tr>\n  </tbody>\n</table>\n</div>"
     },
     "metadata": {},
     "execution_count": 153
    }
   ],
   "source": [
    "df = pd.read_csv(\"./data/fitbit_1/minuteSleep_merged.csv\")\n",
    "df.head()"
   ]
  },
  {
   "cell_type": "code",
   "execution_count": 154,
   "metadata": {},
   "outputs": [
    {
     "output_type": "stream",
     "name": "stdout",
     "text": [
      "<class 'pandas.core.frame.DataFrame'>\nRangeIndex: 198559 entries, 0 to 198558\nData columns (total 4 columns):\n #   Column  Non-Null Count   Dtype \n---  ------  --------------   ----- \n 0   Id      198559 non-null  int64 \n 1   date    198559 non-null  object\n 2   value   198559 non-null  int64 \n 3   logId   198559 non-null  int64 \ndtypes: int64(3), object(1)\nmemory usage: 6.1+ MB\n"
     ]
    }
   ],
   "source": [
    "df.info()"
   ]
  },
  {
   "cell_type": "code",
   "execution_count": 155,
   "metadata": {},
   "outputs": [
    {
     "output_type": "execute_result",
     "data": {
      "text/plain": [
       "'3/13/2016 2:39:30 AM'"
      ]
     },
     "metadata": {},
     "execution_count": 155
    }
   ],
   "source": [
    "df.date[0]"
   ]
  },
  {
   "cell_type": "code",
   "execution_count": 156,
   "metadata": {},
   "outputs": [
    {
     "output_type": "execute_result",
     "data": {
      "text/plain": [
       "           Id                  date  value        logId\n",
       "0  1503960366  3/13/2016 2:39:30 AM      1  11114919637\n",
       "1  1503960366  3/13/2016 2:40:30 AM      1  11114919637\n",
       "2  1503960366  3/13/2016 2:41:30 AM      1  11114919637\n",
       "3  1503960366  3/13/2016 2:42:30 AM      1  11114919637\n",
       "4  1503960366  3/13/2016 2:43:30 AM      1  11114919637"
      ],
      "text/html": "<div>\n<style scoped>\n    .dataframe tbody tr th:only-of-type {\n        vertical-align: middle;\n    }\n\n    .dataframe tbody tr th {\n        vertical-align: top;\n    }\n\n    .dataframe thead th {\n        text-align: right;\n    }\n</style>\n<table border=\"1\" class=\"dataframe\">\n  <thead>\n    <tr style=\"text-align: right;\">\n      <th></th>\n      <th>Id</th>\n      <th>date</th>\n      <th>value</th>\n      <th>logId</th>\n    </tr>\n  </thead>\n  <tbody>\n    <tr>\n      <th>0</th>\n      <td>1503960366</td>\n      <td>3/13/2016 2:39:30 AM</td>\n      <td>1</td>\n      <td>11114919637</td>\n    </tr>\n    <tr>\n      <th>1</th>\n      <td>1503960366</td>\n      <td>3/13/2016 2:40:30 AM</td>\n      <td>1</td>\n      <td>11114919637</td>\n    </tr>\n    <tr>\n      <th>2</th>\n      <td>1503960366</td>\n      <td>3/13/2016 2:41:30 AM</td>\n      <td>1</td>\n      <td>11114919637</td>\n    </tr>\n    <tr>\n      <th>3</th>\n      <td>1503960366</td>\n      <td>3/13/2016 2:42:30 AM</td>\n      <td>1</td>\n      <td>11114919637</td>\n    </tr>\n    <tr>\n      <th>4</th>\n      <td>1503960366</td>\n      <td>3/13/2016 2:43:30 AM</td>\n      <td>1</td>\n      <td>11114919637</td>\n    </tr>\n  </tbody>\n</table>\n</div>"
     },
     "metadata": {},
     "execution_count": 156
    }
   ],
   "source": [
    "df.head()"
   ]
  },
  {
   "source": [
    "Let's convert this to a timestamp so it's easier to work with"
   ],
   "cell_type": "markdown",
   "metadata": {}
  },
  {
   "cell_type": "code",
   "execution_count": 164,
   "metadata": {},
   "outputs": [],
   "source": [
    "import datetime \n",
    "\n",
    "dti = pd.to_datetime(df[\"date\"][0])"
   ]
  },
  {
   "cell_type": "code",
   "execution_count": 165,
   "metadata": {},
   "outputs": [
    {
     "output_type": "execute_result",
     "data": {
      "text/plain": [
       "Timestamp('2016-03-13 02:39:30')"
      ]
     },
     "metadata": {},
     "execution_count": 165
    }
   ],
   "source": [
    "dti"
   ]
  },
  {
   "cell_type": "code",
   "execution_count": 170,
   "metadata": {},
   "outputs": [
    {
     "output_type": "stream",
     "name": "stdout",
     "text": [
      "2016\n3\n13\n2\n39\n30\n2016-03-13\n"
     ]
    }
   ],
   "source": [
    "print(dti.year)\n",
    "print(dti.month)\n",
    "print(dti.day)\n",
    "print(dti.hour)\n",
    "print(dti.minute)\n",
    "print(dti.second)\n",
    "print(dti.date())"
   ]
  },
  {
   "source": [
    "Now save the `date` column in a new column `time`"
   ],
   "cell_type": "markdown",
   "metadata": {}
  },
  {
   "cell_type": "code",
   "execution_count": 171,
   "metadata": {},
   "outputs": [],
   "source": [
    "df[\"time\"] = pd.to_datetime(df[\"date\"])"
   ]
  },
  {
   "cell_type": "code",
   "execution_count": 172,
   "metadata": {},
   "outputs": [
    {
     "output_type": "execute_result",
     "data": {
      "text/plain": [
       "           Id                  date  value        logId                time\n",
       "0  1503960366  3/13/2016 2:39:30 AM      1  11114919637 2016-03-13 02:39:30\n",
       "1  1503960366  3/13/2016 2:40:30 AM      1  11114919637 2016-03-13 02:40:30\n",
       "2  1503960366  3/13/2016 2:41:30 AM      1  11114919637 2016-03-13 02:41:30\n",
       "3  1503960366  3/13/2016 2:42:30 AM      1  11114919637 2016-03-13 02:42:30\n",
       "4  1503960366  3/13/2016 2:43:30 AM      1  11114919637 2016-03-13 02:43:30"
      ],
      "text/html": "<div>\n<style scoped>\n    .dataframe tbody tr th:only-of-type {\n        vertical-align: middle;\n    }\n\n    .dataframe tbody tr th {\n        vertical-align: top;\n    }\n\n    .dataframe thead th {\n        text-align: right;\n    }\n</style>\n<table border=\"1\" class=\"dataframe\">\n  <thead>\n    <tr style=\"text-align: right;\">\n      <th></th>\n      <th>Id</th>\n      <th>date</th>\n      <th>value</th>\n      <th>logId</th>\n      <th>time</th>\n    </tr>\n  </thead>\n  <tbody>\n    <tr>\n      <th>0</th>\n      <td>1503960366</td>\n      <td>3/13/2016 2:39:30 AM</td>\n      <td>1</td>\n      <td>11114919637</td>\n      <td>2016-03-13 02:39:30</td>\n    </tr>\n    <tr>\n      <th>1</th>\n      <td>1503960366</td>\n      <td>3/13/2016 2:40:30 AM</td>\n      <td>1</td>\n      <td>11114919637</td>\n      <td>2016-03-13 02:40:30</td>\n    </tr>\n    <tr>\n      <th>2</th>\n      <td>1503960366</td>\n      <td>3/13/2016 2:41:30 AM</td>\n      <td>1</td>\n      <td>11114919637</td>\n      <td>2016-03-13 02:41:30</td>\n    </tr>\n    <tr>\n      <th>3</th>\n      <td>1503960366</td>\n      <td>3/13/2016 2:42:30 AM</td>\n      <td>1</td>\n      <td>11114919637</td>\n      <td>2016-03-13 02:42:30</td>\n    </tr>\n    <tr>\n      <th>4</th>\n      <td>1503960366</td>\n      <td>3/13/2016 2:43:30 AM</td>\n      <td>1</td>\n      <td>11114919637</td>\n      <td>2016-03-13 02:43:30</td>\n    </tr>\n  </tbody>\n</table>\n</div>"
     },
     "metadata": {},
     "execution_count": 172
    }
   ],
   "source": [
    "df.head()"
   ]
  },
  {
   "cell_type": "code",
   "execution_count": 210,
   "metadata": {},
   "outputs": [],
   "source": [
    "df['just_date'] = df['time'].dt.date"
   ]
  },
  {
   "cell_type": "code",
   "execution_count": 211,
   "metadata": {},
   "outputs": [
    {
     "output_type": "execute_result",
     "data": {
      "text/plain": [
       "           Id                  date  value        logId                time  \\\n",
       "0  1503960366  3/13/2016 2:39:30 AM      1  11114919637 2016-03-13 02:39:30   \n",
       "1  1503960366  3/13/2016 2:40:30 AM      1  11114919637 2016-03-13 02:40:30   \n",
       "2  1503960366  3/13/2016 2:41:30 AM      1  11114919637 2016-03-13 02:41:30   \n",
       "3  1503960366  3/13/2016 2:42:30 AM      1  11114919637 2016-03-13 02:42:30   \n",
       "4  1503960366  3/13/2016 2:43:30 AM      1  11114919637 2016-03-13 02:43:30   \n",
       "\n",
       "    just_date  \n",
       "0  2016-03-13  \n",
       "1  2016-03-13  \n",
       "2  2016-03-13  \n",
       "3  2016-03-13  \n",
       "4  2016-03-13  "
      ],
      "text/html": "<div>\n<style scoped>\n    .dataframe tbody tr th:only-of-type {\n        vertical-align: middle;\n    }\n\n    .dataframe tbody tr th {\n        vertical-align: top;\n    }\n\n    .dataframe thead th {\n        text-align: right;\n    }\n</style>\n<table border=\"1\" class=\"dataframe\">\n  <thead>\n    <tr style=\"text-align: right;\">\n      <th></th>\n      <th>Id</th>\n      <th>date</th>\n      <th>value</th>\n      <th>logId</th>\n      <th>time</th>\n      <th>just_date</th>\n    </tr>\n  </thead>\n  <tbody>\n    <tr>\n      <th>0</th>\n      <td>1503960366</td>\n      <td>3/13/2016 2:39:30 AM</td>\n      <td>1</td>\n      <td>11114919637</td>\n      <td>2016-03-13 02:39:30</td>\n      <td>2016-03-13</td>\n    </tr>\n    <tr>\n      <th>1</th>\n      <td>1503960366</td>\n      <td>3/13/2016 2:40:30 AM</td>\n      <td>1</td>\n      <td>11114919637</td>\n      <td>2016-03-13 02:40:30</td>\n      <td>2016-03-13</td>\n    </tr>\n    <tr>\n      <th>2</th>\n      <td>1503960366</td>\n      <td>3/13/2016 2:41:30 AM</td>\n      <td>1</td>\n      <td>11114919637</td>\n      <td>2016-03-13 02:41:30</td>\n      <td>2016-03-13</td>\n    </tr>\n    <tr>\n      <th>3</th>\n      <td>1503960366</td>\n      <td>3/13/2016 2:42:30 AM</td>\n      <td>1</td>\n      <td>11114919637</td>\n      <td>2016-03-13 02:42:30</td>\n      <td>2016-03-13</td>\n    </tr>\n    <tr>\n      <th>4</th>\n      <td>1503960366</td>\n      <td>3/13/2016 2:43:30 AM</td>\n      <td>1</td>\n      <td>11114919637</td>\n      <td>2016-03-13 02:43:30</td>\n      <td>2016-03-13</td>\n    </tr>\n  </tbody>\n</table>\n</div>"
     },
     "metadata": {},
     "execution_count": 211
    }
   ],
   "source": [
    "df.head()"
   ]
  },
  {
   "cell_type": "code",
   "execution_count": 212,
   "metadata": {},
   "outputs": [],
   "source": [
    "df.drop(\"date\", axis = 1, inplace =True)"
   ]
  },
  {
   "cell_type": "code",
   "execution_count": 213,
   "metadata": {},
   "outputs": [
    {
     "output_type": "execute_result",
     "data": {
      "text/plain": [
       "           Id  value        logId                time   just_date\n",
       "0  1503960366      1  11114919637 2016-03-13 02:39:30  2016-03-13\n",
       "1  1503960366      1  11114919637 2016-03-13 02:40:30  2016-03-13\n",
       "2  1503960366      1  11114919637 2016-03-13 02:41:30  2016-03-13\n",
       "3  1503960366      1  11114919637 2016-03-13 02:42:30  2016-03-13\n",
       "4  1503960366      1  11114919637 2016-03-13 02:43:30  2016-03-13"
      ],
      "text/html": "<div>\n<style scoped>\n    .dataframe tbody tr th:only-of-type {\n        vertical-align: middle;\n    }\n\n    .dataframe tbody tr th {\n        vertical-align: top;\n    }\n\n    .dataframe thead th {\n        text-align: right;\n    }\n</style>\n<table border=\"1\" class=\"dataframe\">\n  <thead>\n    <tr style=\"text-align: right;\">\n      <th></th>\n      <th>Id</th>\n      <th>value</th>\n      <th>logId</th>\n      <th>time</th>\n      <th>just_date</th>\n    </tr>\n  </thead>\n  <tbody>\n    <tr>\n      <th>0</th>\n      <td>1503960366</td>\n      <td>1</td>\n      <td>11114919637</td>\n      <td>2016-03-13 02:39:30</td>\n      <td>2016-03-13</td>\n    </tr>\n    <tr>\n      <th>1</th>\n      <td>1503960366</td>\n      <td>1</td>\n      <td>11114919637</td>\n      <td>2016-03-13 02:40:30</td>\n      <td>2016-03-13</td>\n    </tr>\n    <tr>\n      <th>2</th>\n      <td>1503960366</td>\n      <td>1</td>\n      <td>11114919637</td>\n      <td>2016-03-13 02:41:30</td>\n      <td>2016-03-13</td>\n    </tr>\n    <tr>\n      <th>3</th>\n      <td>1503960366</td>\n      <td>1</td>\n      <td>11114919637</td>\n      <td>2016-03-13 02:42:30</td>\n      <td>2016-03-13</td>\n    </tr>\n    <tr>\n      <th>4</th>\n      <td>1503960366</td>\n      <td>1</td>\n      <td>11114919637</td>\n      <td>2016-03-13 02:43:30</td>\n      <td>2016-03-13</td>\n    </tr>\n  </tbody>\n</table>\n</div>"
     },
     "metadata": {},
     "execution_count": 213
    }
   ],
   "source": [
    "df.head()"
   ]
  },
  {
   "source": [
    "- Apparently the `logId` gives us the changes after every sleep cicle.\n",
    "- Let's see whether we can group our data accorind to the `logId`"
   ],
   "cell_type": "markdown",
   "metadata": {}
  },
  {
   "cell_type": "code",
   "execution_count": 214,
   "metadata": {},
   "outputs": [
    {
     "output_type": "execute_result",
     "data": {
      "text/plain": [
       "logId\n",
       "11103653021   2016-03-11 23:29:00\n",
       "11103710844   2016-03-11 22:42:30\n",
       "11103729104   2016-03-11 21:31:30\n",
       "11103744323   2016-03-11 23:43:00\n",
       "11104043433   2016-03-12 02:43:30\n",
       "                      ...        \n",
       "11372617693   2016-04-12 00:23:30\n",
       "11373088895   2016-04-11 22:19:00\n",
       "11374744422   2016-04-12 01:44:00\n",
       "11374768075   2016-04-12 06:27:00\n",
       "11374876178   2016-04-11 22:11:30\n",
       "Name: time, Length: 556, dtype: datetime64[ns]"
      ]
     },
     "metadata": {},
     "execution_count": 214
    }
   ],
   "source": [
    "# Gives us the first time associated with a given logId\n",
    "df.groupby(df[\"logId\"]).time.first()"
   ]
  },
  {
   "cell_type": "code",
   "execution_count": 215,
   "metadata": {},
   "outputs": [
    {
     "output_type": "execute_result",
     "data": {
      "text/plain": [
       "logId\n",
       "11103653021   2016-03-12 06:38:00\n",
       "11103710844   2016-03-12 04:39:30\n",
       "11103729104   2016-03-12 06:34:30\n",
       "11103744323   2016-03-12 06:58:00\n",
       "11104043433   2016-03-12 06:12:30\n",
       "                      ...        \n",
       "11372617693   2016-04-12 06:49:30\n",
       "11373088895   2016-04-12 04:14:00\n",
       "11374744422   2016-04-12 07:15:00\n",
       "11374768075   2016-04-12 08:35:00\n",
       "11374876178   2016-04-12 06:55:30\n",
       "Name: time, Length: 556, dtype: datetime64[ns]"
      ]
     },
     "metadata": {},
     "execution_count": 215
    }
   ],
   "source": [
    "# Gives us the last time associated with a given logId\n",
    "df.groupby(df[\"logId\"]).time.last()"
   ]
  },
  {
   "cell_type": "code",
   "execution_count": 231,
   "metadata": {},
   "outputs": [],
   "source": [
    "# We can subtract these times to obtain the amount of sleep per logId\n",
    "a = df.groupby(df[\"logId\"]).time.first()\n",
    "b = df.groupby(df[\"logId\"]).time.last()\n",
    "sleep_duration = b-a"
   ]
  },
  {
   "cell_type": "code",
   "execution_count": 232,
   "metadata": {},
   "outputs": [
    {
     "output_type": "execute_result",
     "data": {
      "text/plain": [
       "logId\n",
       "11103653021   0 days 07:09:00\n",
       "11103710844   0 days 05:57:00\n",
       "11103729104   0 days 09:03:00\n",
       "11103744323   0 days 07:15:00\n",
       "11104043433   0 days 03:29:00\n",
       "                    ...      \n",
       "11372617693   0 days 06:26:00\n",
       "11373088895   0 days 05:55:00\n",
       "11374744422   0 days 05:31:00\n",
       "11374768075   0 days 02:08:00\n",
       "11374876178   0 days 08:44:00\n",
       "Name: time, Length: 556, dtype: timedelta64[ns]"
      ]
     },
     "metadata": {},
     "execution_count": 232
    }
   ],
   "source": [
    "sleep_duration"
   ]
  },
  {
   "source": [
    "# 3. Merge sleep duration with df"
   ],
   "cell_type": "markdown",
   "metadata": {}
  },
  {
   "cell_type": "code",
   "execution_count": 233,
   "metadata": {},
   "outputs": [
    {
     "output_type": "execute_result",
     "data": {
      "text/plain": [
       "              Id  value  time  just_date\n",
       "logId                                   \n",
       "11103653021  430    430   430        430\n",
       "11103710844  358    358   358        358\n",
       "11103729104  544    544   544        544\n",
       "11103744323  436    436   436        436\n",
       "11104043433  210    210   210        210\n",
       "...          ...    ...   ...        ...\n",
       "11372617693  387    387   387        387\n",
       "11373088895  356    356   356        356\n",
       "11374744422  332    332   332        332\n",
       "11374768075  129    129   129        129\n",
       "11374876178  525    525   525        525\n",
       "\n",
       "[556 rows x 4 columns]"
      ],
      "text/html": "<div>\n<style scoped>\n    .dataframe tbody tr th:only-of-type {\n        vertical-align: middle;\n    }\n\n    .dataframe tbody tr th {\n        vertical-align: top;\n    }\n\n    .dataframe thead th {\n        text-align: right;\n    }\n</style>\n<table border=\"1\" class=\"dataframe\">\n  <thead>\n    <tr style=\"text-align: right;\">\n      <th></th>\n      <th>Id</th>\n      <th>value</th>\n      <th>time</th>\n      <th>just_date</th>\n    </tr>\n    <tr>\n      <th>logId</th>\n      <th></th>\n      <th></th>\n      <th></th>\n      <th></th>\n    </tr>\n  </thead>\n  <tbody>\n    <tr>\n      <th>11103653021</th>\n      <td>430</td>\n      <td>430</td>\n      <td>430</td>\n      <td>430</td>\n    </tr>\n    <tr>\n      <th>11103710844</th>\n      <td>358</td>\n      <td>358</td>\n      <td>358</td>\n      <td>358</td>\n    </tr>\n    <tr>\n      <th>11103729104</th>\n      <td>544</td>\n      <td>544</td>\n      <td>544</td>\n      <td>544</td>\n    </tr>\n    <tr>\n      <th>11103744323</th>\n      <td>436</td>\n      <td>436</td>\n      <td>436</td>\n      <td>436</td>\n    </tr>\n    <tr>\n      <th>11104043433</th>\n      <td>210</td>\n      <td>210</td>\n      <td>210</td>\n      <td>210</td>\n    </tr>\n    <tr>\n      <th>...</th>\n      <td>...</td>\n      <td>...</td>\n      <td>...</td>\n      <td>...</td>\n    </tr>\n    <tr>\n      <th>11372617693</th>\n      <td>387</td>\n      <td>387</td>\n      <td>387</td>\n      <td>387</td>\n    </tr>\n    <tr>\n      <th>11373088895</th>\n      <td>356</td>\n      <td>356</td>\n      <td>356</td>\n      <td>356</td>\n    </tr>\n    <tr>\n      <th>11374744422</th>\n      <td>332</td>\n      <td>332</td>\n      <td>332</td>\n      <td>332</td>\n    </tr>\n    <tr>\n      <th>11374768075</th>\n      <td>129</td>\n      <td>129</td>\n      <td>129</td>\n      <td>129</td>\n    </tr>\n    <tr>\n      <th>11374876178</th>\n      <td>525</td>\n      <td>525</td>\n      <td>525</td>\n      <td>525</td>\n    </tr>\n  </tbody>\n</table>\n<p>556 rows × 4 columns</p>\n</div>"
     },
     "metadata": {},
     "execution_count": 233
    }
   ],
   "source": [
    "df.groupby(df[\"logId\"]).count()"
   ]
  },
  {
   "cell_type": "code",
   "execution_count": 234,
   "metadata": {},
   "outputs": [],
   "source": [
    "# Unique Id, logId combinations\n",
    "combinations = df.groupby([\"Id\", \"logId\"]).count().index.tolist()"
   ]
  },
  {
   "cell_type": "code",
   "execution_count": 235,
   "metadata": {},
   "outputs": [
    {
     "output_type": "execute_result",
     "data": {
      "text/plain": [
       "[(1503960366, 11114919637),\n",
       " (1503960366, 11126343681),\n",
       " (1503960366, 11134971215),\n",
       " (1503960366, 11142197163),\n",
       " (1503960366, 11142197164),\n",
       " (1503960366, 11150938241),\n",
       " (1503960366, 11158035737),\n",
       " (1503960366, 11162426404),\n",
       " (1503960366, 11171977262),\n",
       " (1503960366, 11183536407)]"
      ]
     },
     "metadata": {},
     "execution_count": 235
    }
   ],
   "source": [
    "combinations[0:10]"
   ]
  },
  {
   "cell_type": "code",
   "execution_count": 236,
   "metadata": {},
   "outputs": [],
   "source": [
    "df1 = pd.DataFrame(combinations, columns = [\"Id\", \"logId\"])"
   ]
  },
  {
   "cell_type": "code",
   "execution_count": 237,
   "metadata": {},
   "outputs": [
    {
     "output_type": "execute_result",
     "data": {
      "text/plain": [
       "           Id        logId\n",
       "0  1503960366  11114919637\n",
       "1  1503960366  11126343681\n",
       "2  1503960366  11134971215\n",
       "3  1503960366  11142197163\n",
       "4  1503960366  11142197164"
      ],
      "text/html": "<div>\n<style scoped>\n    .dataframe tbody tr th:only-of-type {\n        vertical-align: middle;\n    }\n\n    .dataframe tbody tr th {\n        vertical-align: top;\n    }\n\n    .dataframe thead th {\n        text-align: right;\n    }\n</style>\n<table border=\"1\" class=\"dataframe\">\n  <thead>\n    <tr style=\"text-align: right;\">\n      <th></th>\n      <th>Id</th>\n      <th>logId</th>\n    </tr>\n  </thead>\n  <tbody>\n    <tr>\n      <th>0</th>\n      <td>1503960366</td>\n      <td>11114919637</td>\n    </tr>\n    <tr>\n      <th>1</th>\n      <td>1503960366</td>\n      <td>11126343681</td>\n    </tr>\n    <tr>\n      <th>2</th>\n      <td>1503960366</td>\n      <td>11134971215</td>\n    </tr>\n    <tr>\n      <th>3</th>\n      <td>1503960366</td>\n      <td>11142197163</td>\n    </tr>\n    <tr>\n      <th>4</th>\n      <td>1503960366</td>\n      <td>11142197164</td>\n    </tr>\n  </tbody>\n</table>\n</div>"
     },
     "metadata": {},
     "execution_count": 237
    }
   ],
   "source": [
    "df1.head()"
   ]
  },
  {
   "cell_type": "code",
   "execution_count": 238,
   "metadata": {},
   "outputs": [],
   "source": [
    "sleep_duration_df = sleep_duration.to_frame()"
   ]
  },
  {
   "cell_type": "code",
   "execution_count": 239,
   "metadata": {},
   "outputs": [
    {
     "output_type": "execute_result",
     "data": {
      "text/plain": [
       "                       time\n",
       "logId                      \n",
       "11103653021 0 days 07:09:00\n",
       "11103710844 0 days 05:57:00\n",
       "11103729104 0 days 09:03:00\n",
       "11103744323 0 days 07:15:00\n",
       "11104043433 0 days 03:29:00"
      ],
      "text/html": "<div>\n<style scoped>\n    .dataframe tbody tr th:only-of-type {\n        vertical-align: middle;\n    }\n\n    .dataframe tbody tr th {\n        vertical-align: top;\n    }\n\n    .dataframe thead th {\n        text-align: right;\n    }\n</style>\n<table border=\"1\" class=\"dataframe\">\n  <thead>\n    <tr style=\"text-align: right;\">\n      <th></th>\n      <th>time</th>\n    </tr>\n    <tr>\n      <th>logId</th>\n      <th></th>\n    </tr>\n  </thead>\n  <tbody>\n    <tr>\n      <th>11103653021</th>\n      <td>0 days 07:09:00</td>\n    </tr>\n    <tr>\n      <th>11103710844</th>\n      <td>0 days 05:57:00</td>\n    </tr>\n    <tr>\n      <th>11103729104</th>\n      <td>0 days 09:03:00</td>\n    </tr>\n    <tr>\n      <th>11103744323</th>\n      <td>0 days 07:15:00</td>\n    </tr>\n    <tr>\n      <th>11104043433</th>\n      <td>0 days 03:29:00</td>\n    </tr>\n  </tbody>\n</table>\n</div>"
     },
     "metadata": {},
     "execution_count": 239
    }
   ],
   "source": [
    "sleep_duration_df.head()"
   ]
  },
  {
   "cell_type": "code",
   "execution_count": 240,
   "metadata": {},
   "outputs": [],
   "source": [
    "sleep_duration_df.reset_index(inplace=True)"
   ]
  },
  {
   "cell_type": "code",
   "execution_count": 241,
   "metadata": {},
   "outputs": [
    {
     "output_type": "execute_result",
     "data": {
      "text/plain": [
       "         logId            time\n",
       "0  11103653021 0 days 07:09:00\n",
       "1  11103710844 0 days 05:57:00\n",
       "2  11103729104 0 days 09:03:00\n",
       "3  11103744323 0 days 07:15:00\n",
       "4  11104043433 0 days 03:29:00"
      ],
      "text/html": "<div>\n<style scoped>\n    .dataframe tbody tr th:only-of-type {\n        vertical-align: middle;\n    }\n\n    .dataframe tbody tr th {\n        vertical-align: top;\n    }\n\n    .dataframe thead th {\n        text-align: right;\n    }\n</style>\n<table border=\"1\" class=\"dataframe\">\n  <thead>\n    <tr style=\"text-align: right;\">\n      <th></th>\n      <th>logId</th>\n      <th>time</th>\n    </tr>\n  </thead>\n  <tbody>\n    <tr>\n      <th>0</th>\n      <td>11103653021</td>\n      <td>0 days 07:09:00</td>\n    </tr>\n    <tr>\n      <th>1</th>\n      <td>11103710844</td>\n      <td>0 days 05:57:00</td>\n    </tr>\n    <tr>\n      <th>2</th>\n      <td>11103729104</td>\n      <td>0 days 09:03:00</td>\n    </tr>\n    <tr>\n      <th>3</th>\n      <td>11103744323</td>\n      <td>0 days 07:15:00</td>\n    </tr>\n    <tr>\n      <th>4</th>\n      <td>11104043433</td>\n      <td>0 days 03:29:00</td>\n    </tr>\n  </tbody>\n</table>\n</div>"
     },
     "metadata": {},
     "execution_count": 241
    }
   ],
   "source": [
    "sleep_duration_df.head()"
   ]
  },
  {
   "cell_type": "code",
   "execution_count": 242,
   "metadata": {},
   "outputs": [
    {
     "output_type": "execute_result",
     "data": {
      "text/plain": [
       "           Id        logId            time\n",
       "0  1503960366  11114919637 0 days 07:05:00\n",
       "1  1503960366  11126343681 0 days 06:25:00\n",
       "2  1503960366  11134971215 0 days 05:34:00\n",
       "3  1503960366  11142197163 0 days 05:02:00\n",
       "4  1503960366  11142197164 0 days 01:02:00"
      ],
      "text/html": "<div>\n<style scoped>\n    .dataframe tbody tr th:only-of-type {\n        vertical-align: middle;\n    }\n\n    .dataframe tbody tr th {\n        vertical-align: top;\n    }\n\n    .dataframe thead th {\n        text-align: right;\n    }\n</style>\n<table border=\"1\" class=\"dataframe\">\n  <thead>\n    <tr style=\"text-align: right;\">\n      <th></th>\n      <th>Id</th>\n      <th>logId</th>\n      <th>time</th>\n    </tr>\n  </thead>\n  <tbody>\n    <tr>\n      <th>0</th>\n      <td>1503960366</td>\n      <td>11114919637</td>\n      <td>0 days 07:05:00</td>\n    </tr>\n    <tr>\n      <th>1</th>\n      <td>1503960366</td>\n      <td>11126343681</td>\n      <td>0 days 06:25:00</td>\n    </tr>\n    <tr>\n      <th>2</th>\n      <td>1503960366</td>\n      <td>11134971215</td>\n      <td>0 days 05:34:00</td>\n    </tr>\n    <tr>\n      <th>3</th>\n      <td>1503960366</td>\n      <td>11142197163</td>\n      <td>0 days 05:02:00</td>\n    </tr>\n    <tr>\n      <th>4</th>\n      <td>1503960366</td>\n      <td>11142197164</td>\n      <td>0 days 01:02:00</td>\n    </tr>\n  </tbody>\n</table>\n</div>"
     },
     "metadata": {},
     "execution_count": 242
    }
   ],
   "source": [
    "result = pd.merge(df1, sleep_duration_df, how=\"inner\")\n",
    "result.head()"
   ]
  },
  {
   "cell_type": "code",
   "execution_count": 243,
   "metadata": {},
   "outputs": [
    {
     "output_type": "stream",
     "name": "stdout",
     "text": [
      "<class 'pandas.core.frame.DataFrame'>\nInt64Index: 556 entries, 0 to 555\nData columns (total 3 columns):\n #   Column  Non-Null Count  Dtype          \n---  ------  --------------  -----          \n 0   Id      556 non-null    int64          \n 1   logId   556 non-null    int64          \n 2   time    556 non-null    timedelta64[ns]\ndtypes: int64(2), timedelta64[ns](1)\nmemory usage: 17.4 KB\n"
     ]
    }
   ],
   "source": [
    "result.info()"
   ]
  },
  {
   "source": [
    "# 4. Merge result and df"
   ],
   "cell_type": "markdown",
   "metadata": {}
  },
  {
   "cell_type": "code",
   "execution_count": 247,
   "metadata": {},
   "outputs": [
    {
     "output_type": "execute_result",
     "data": {
      "text/plain": [
       "                Id  value        logId                time   just_date\n",
       "0       1503960366      1  11114919637 2016-03-13 02:39:30  2016-03-13\n",
       "1       1503960366      1  11114919637 2016-03-13 02:40:30  2016-03-13\n",
       "2       1503960366      1  11114919637 2016-03-13 02:41:30  2016-03-13\n",
       "3       1503960366      1  11114919637 2016-03-13 02:42:30  2016-03-13\n",
       "4       1503960366      1  11114919637 2016-03-13 02:43:30  2016-03-13\n",
       "...            ...    ...          ...                 ...         ...\n",
       "198554  8792009665      1  11357751881 2016-04-09 18:38:00  2016-04-09\n",
       "198555  8792009665      1  11357751881 2016-04-09 18:39:00  2016-04-09\n",
       "198556  8792009665      1  11357751881 2016-04-09 18:40:00  2016-04-09\n",
       "198557  8792009665      1  11357751881 2016-04-09 18:41:00  2016-04-09\n",
       "198558  8792009665      1  11357751881 2016-04-09 18:42:00  2016-04-09\n",
       "\n",
       "[198559 rows x 5 columns]"
      ],
      "text/html": "<div>\n<style scoped>\n    .dataframe tbody tr th:only-of-type {\n        vertical-align: middle;\n    }\n\n    .dataframe tbody tr th {\n        vertical-align: top;\n    }\n\n    .dataframe thead th {\n        text-align: right;\n    }\n</style>\n<table border=\"1\" class=\"dataframe\">\n  <thead>\n    <tr style=\"text-align: right;\">\n      <th></th>\n      <th>Id</th>\n      <th>value</th>\n      <th>logId</th>\n      <th>time</th>\n      <th>just_date</th>\n    </tr>\n  </thead>\n  <tbody>\n    <tr>\n      <th>0</th>\n      <td>1503960366</td>\n      <td>1</td>\n      <td>11114919637</td>\n      <td>2016-03-13 02:39:30</td>\n      <td>2016-03-13</td>\n    </tr>\n    <tr>\n      <th>1</th>\n      <td>1503960366</td>\n      <td>1</td>\n      <td>11114919637</td>\n      <td>2016-03-13 02:40:30</td>\n      <td>2016-03-13</td>\n    </tr>\n    <tr>\n      <th>2</th>\n      <td>1503960366</td>\n      <td>1</td>\n      <td>11114919637</td>\n      <td>2016-03-13 02:41:30</td>\n      <td>2016-03-13</td>\n    </tr>\n    <tr>\n      <th>3</th>\n      <td>1503960366</td>\n      <td>1</td>\n      <td>11114919637</td>\n      <td>2016-03-13 02:42:30</td>\n      <td>2016-03-13</td>\n    </tr>\n    <tr>\n      <th>4</th>\n      <td>1503960366</td>\n      <td>1</td>\n      <td>11114919637</td>\n      <td>2016-03-13 02:43:30</td>\n      <td>2016-03-13</td>\n    </tr>\n    <tr>\n      <th>...</th>\n      <td>...</td>\n      <td>...</td>\n      <td>...</td>\n      <td>...</td>\n      <td>...</td>\n    </tr>\n    <tr>\n      <th>198554</th>\n      <td>8792009665</td>\n      <td>1</td>\n      <td>11357751881</td>\n      <td>2016-04-09 18:38:00</td>\n      <td>2016-04-09</td>\n    </tr>\n    <tr>\n      <th>198555</th>\n      <td>8792009665</td>\n      <td>1</td>\n      <td>11357751881</td>\n      <td>2016-04-09 18:39:00</td>\n      <td>2016-04-09</td>\n    </tr>\n    <tr>\n      <th>198556</th>\n      <td>8792009665</td>\n      <td>1</td>\n      <td>11357751881</td>\n      <td>2016-04-09 18:40:00</td>\n      <td>2016-04-09</td>\n    </tr>\n    <tr>\n      <th>198557</th>\n      <td>8792009665</td>\n      <td>1</td>\n      <td>11357751881</td>\n      <td>2016-04-09 18:41:00</td>\n      <td>2016-04-09</td>\n    </tr>\n    <tr>\n      <th>198558</th>\n      <td>8792009665</td>\n      <td>1</td>\n      <td>11357751881</td>\n      <td>2016-04-09 18:42:00</td>\n      <td>2016-04-09</td>\n    </tr>\n  </tbody>\n</table>\n<p>198559 rows × 5 columns</p>\n</div>"
     },
     "metadata": {},
     "execution_count": 247
    }
   ],
   "source": [
    "df"
   ]
  },
  {
   "source": [
    "Let's group our results by logId and look at unique dates per logId"
   ],
   "cell_type": "markdown",
   "metadata": {}
  },
  {
   "cell_type": "code",
   "execution_count": 281,
   "metadata": {},
   "outputs": [
    {
     "output_type": "execute_result",
     "data": {
      "text/plain": [
       "pandas.core.series.Series"
      ]
     },
     "metadata": {},
     "execution_count": 281
    }
   ],
   "source": [
    "import numpy as np\n",
    "g = df.groupby(['logId', \"Id\"])[\"just_date\"].apply(lambda x: list(np.unique(x)))\n",
    "type(g)"
   ]
  },
  {
   "cell_type": "code",
   "execution_count": 282,
   "metadata": {},
   "outputs": [
    {
     "output_type": "execute_result",
     "data": {
      "text/plain": [
       "logId        Id        \n",
       "11103653021  6962181067    [2016-03-11, 2016-03-12]\n",
       "11103710844  6117666160    [2016-03-11, 2016-03-12]\n",
       "11103729104  2026352035    [2016-03-11, 2016-03-12]\n",
       "11103744323  2347167796    [2016-03-11, 2016-03-12]\n",
       "11104043433  4445114986                [2016-03-12]\n",
       "Name: just_date, dtype: object"
      ]
     },
     "metadata": {},
     "execution_count": 282
    }
   ],
   "source": [
    "g.head()"
   ]
  },
  {
   "source": [
    "- As we can see a person can go to sleep one day and wake up the next day. \n",
    "- Let's just consider the first or second entry in our list to be the day that we count the sleep for  "
   ],
   "cell_type": "markdown",
   "metadata": {}
  },
  {
   "source": [
    "We can run the same code with a slight variation. \n",
    "\n",
    "Notice the we take the `[0]th` entry of the list"
   ],
   "cell_type": "markdown",
   "metadata": {}
  },
  {
   "cell_type": "code",
   "execution_count": 285,
   "metadata": {},
   "outputs": [
    {
     "output_type": "execute_result",
     "data": {
      "text/plain": [
       "logId        Id        \n",
       "11103653021  6962181067    2016-03-11\n",
       "11103710844  6117666160    2016-03-11\n",
       "11103729104  2026352035    2016-03-11\n",
       "11103744323  2347167796    2016-03-11\n",
       "11104043433  4445114986    2016-03-12\n",
       "Name: just_date, dtype: object"
      ]
     },
     "metadata": {},
     "execution_count": 285
    }
   ],
   "source": [
    "g = df.groupby(['logId', \"Id\"])[\"just_date\"].apply(lambda x: list(np.unique(x))[0])\n",
    "g.head()"
   ]
  },
  {
   "source": [
    "Create a dataframe again "
   ],
   "cell_type": "markdown",
   "metadata": {}
  },
  {
   "cell_type": "code",
   "execution_count": 287,
   "metadata": {},
   "outputs": [
    {
     "output_type": "execute_result",
     "data": {
      "text/plain": [
       "                         just_date\n",
       "logId       Id                    \n",
       "11103653021 6962181067  2016-03-11\n",
       "11103710844 6117666160  2016-03-11\n",
       "11103729104 2026352035  2016-03-11\n",
       "11103744323 2347167796  2016-03-11\n",
       "11104043433 4445114986  2016-03-12\n",
       "...                            ...\n",
       "11372617693 6962181067  2016-04-12\n",
       "11373088895 8378563200  2016-04-11\n",
       "11374744422 4445114986  2016-04-12\n",
       "11374768075 1927972279  2016-04-12\n",
       "11374876178 7086361926  2016-04-11\n",
       "\n",
       "[556 rows x 1 columns]"
      ],
      "text/html": "<div>\n<style scoped>\n    .dataframe tbody tr th:only-of-type {\n        vertical-align: middle;\n    }\n\n    .dataframe tbody tr th {\n        vertical-align: top;\n    }\n\n    .dataframe thead th {\n        text-align: right;\n    }\n</style>\n<table border=\"1\" class=\"dataframe\">\n  <thead>\n    <tr style=\"text-align: right;\">\n      <th></th>\n      <th></th>\n      <th>just_date</th>\n    </tr>\n    <tr>\n      <th>logId</th>\n      <th>Id</th>\n      <th></th>\n    </tr>\n  </thead>\n  <tbody>\n    <tr>\n      <th>11103653021</th>\n      <th>6962181067</th>\n      <td>2016-03-11</td>\n    </tr>\n    <tr>\n      <th>11103710844</th>\n      <th>6117666160</th>\n      <td>2016-03-11</td>\n    </tr>\n    <tr>\n      <th>11103729104</th>\n      <th>2026352035</th>\n      <td>2016-03-11</td>\n    </tr>\n    <tr>\n      <th>11103744323</th>\n      <th>2347167796</th>\n      <td>2016-03-11</td>\n    </tr>\n    <tr>\n      <th>11104043433</th>\n      <th>4445114986</th>\n      <td>2016-03-12</td>\n    </tr>\n    <tr>\n      <th>...</th>\n      <th>...</th>\n      <td>...</td>\n    </tr>\n    <tr>\n      <th>11372617693</th>\n      <th>6962181067</th>\n      <td>2016-04-12</td>\n    </tr>\n    <tr>\n      <th>11373088895</th>\n      <th>8378563200</th>\n      <td>2016-04-11</td>\n    </tr>\n    <tr>\n      <th>11374744422</th>\n      <th>4445114986</th>\n      <td>2016-04-12</td>\n    </tr>\n    <tr>\n      <th>11374768075</th>\n      <th>1927972279</th>\n      <td>2016-04-12</td>\n    </tr>\n    <tr>\n      <th>11374876178</th>\n      <th>7086361926</th>\n      <td>2016-04-11</td>\n    </tr>\n  </tbody>\n</table>\n<p>556 rows × 1 columns</p>\n</div>"
     },
     "metadata": {},
     "execution_count": 287
    }
   ],
   "source": [
    "merged = pd.DataFrame(g)\n",
    "merged"
   ]
  },
  {
   "cell_type": "code",
   "execution_count": 289,
   "metadata": {},
   "outputs": [
    {
     "output_type": "execute_result",
     "data": {
      "text/plain": [
       "           logId   just_date          Id            time\n",
       "0    11103653021  2016-03-11  6962181067 0 days 07:09:00\n",
       "1    11103710844  2016-03-11  6117666160 0 days 05:57:00\n",
       "2    11103729104  2016-03-11  2026352035 0 days 09:03:00\n",
       "3    11103744323  2016-03-11  2347167796 0 days 07:15:00\n",
       "4    11104043433  2016-03-12  4445114986 0 days 03:29:00\n",
       "..           ...         ...         ...             ...\n",
       "551  11372617693  2016-04-12  6962181067 0 days 06:26:00\n",
       "552  11373088895  2016-04-11  8378563200 0 days 05:55:00\n",
       "553  11374744422  2016-04-12  4445114986 0 days 05:31:00\n",
       "554  11374768075  2016-04-12  1927972279 0 days 02:08:00\n",
       "555  11374876178  2016-04-11  7086361926 0 days 08:44:00\n",
       "\n",
       "[556 rows x 4 columns]"
      ],
      "text/html": "<div>\n<style scoped>\n    .dataframe tbody tr th:only-of-type {\n        vertical-align: middle;\n    }\n\n    .dataframe tbody tr th {\n        vertical-align: top;\n    }\n\n    .dataframe thead th {\n        text-align: right;\n    }\n</style>\n<table border=\"1\" class=\"dataframe\">\n  <thead>\n    <tr style=\"text-align: right;\">\n      <th></th>\n      <th>logId</th>\n      <th>just_date</th>\n      <th>Id</th>\n      <th>time</th>\n    </tr>\n  </thead>\n  <tbody>\n    <tr>\n      <th>0</th>\n      <td>11103653021</td>\n      <td>2016-03-11</td>\n      <td>6962181067</td>\n      <td>0 days 07:09:00</td>\n    </tr>\n    <tr>\n      <th>1</th>\n      <td>11103710844</td>\n      <td>2016-03-11</td>\n      <td>6117666160</td>\n      <td>0 days 05:57:00</td>\n    </tr>\n    <tr>\n      <th>2</th>\n      <td>11103729104</td>\n      <td>2016-03-11</td>\n      <td>2026352035</td>\n      <td>0 days 09:03:00</td>\n    </tr>\n    <tr>\n      <th>3</th>\n      <td>11103744323</td>\n      <td>2016-03-11</td>\n      <td>2347167796</td>\n      <td>0 days 07:15:00</td>\n    </tr>\n    <tr>\n      <th>4</th>\n      <td>11104043433</td>\n      <td>2016-03-12</td>\n      <td>4445114986</td>\n      <td>0 days 03:29:00</td>\n    </tr>\n    <tr>\n      <th>...</th>\n      <td>...</td>\n      <td>...</td>\n      <td>...</td>\n      <td>...</td>\n    </tr>\n    <tr>\n      <th>551</th>\n      <td>11372617693</td>\n      <td>2016-04-12</td>\n      <td>6962181067</td>\n      <td>0 days 06:26:00</td>\n    </tr>\n    <tr>\n      <th>552</th>\n      <td>11373088895</td>\n      <td>2016-04-11</td>\n      <td>8378563200</td>\n      <td>0 days 05:55:00</td>\n    </tr>\n    <tr>\n      <th>553</th>\n      <td>11374744422</td>\n      <td>2016-04-12</td>\n      <td>4445114986</td>\n      <td>0 days 05:31:00</td>\n    </tr>\n    <tr>\n      <th>554</th>\n      <td>11374768075</td>\n      <td>2016-04-12</td>\n      <td>1927972279</td>\n      <td>0 days 02:08:00</td>\n    </tr>\n    <tr>\n      <th>555</th>\n      <td>11374876178</td>\n      <td>2016-04-11</td>\n      <td>7086361926</td>\n      <td>0 days 08:44:00</td>\n    </tr>\n  </tbody>\n</table>\n<p>556 rows × 4 columns</p>\n</div>"
     },
     "metadata": {},
     "execution_count": 289
    }
   ],
   "source": [
    "final_df = pd.merge(merged, result, how=\"inner\", on=\"logId\")\n",
    "final_df"
   ]
  },
  {
   "source": [
    "We finally have the dataframe we wanted. Let's export it "
   ],
   "cell_type": "markdown",
   "metadata": {}
  },
  {
   "cell_type": "code",
   "execution_count": 292,
   "metadata": {},
   "outputs": [],
   "source": [
    "final_df.to_csv(\"Data.csv\")"
   ]
  },
  {
   "cell_type": "code",
   "execution_count": null,
   "metadata": {},
   "outputs": [],
   "source": []
  },
  {
   "cell_type": "code",
   "execution_count": null,
   "metadata": {},
   "outputs": [],
   "source": []
  }
 ]
}